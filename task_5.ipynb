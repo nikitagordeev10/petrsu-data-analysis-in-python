{
 "cells": [
  {
   "cell_type": "markdown",
   "metadata": {
    "collapsed": false
   },
   "source": [
    "Вставьте в ответ код программы с реализацией функции function(n), на вход которой подается положительное целое число n (n >100)  в которой:\n",
    "- n – последний целочисленный элемент списка [1, 2, 3, …, n]. \n",
    "- С помощью функции filter из списка [1, 2, 3, …, n] отобрать все числа, которые нацело делятся на семь, и из них составить список list_1. \n",
    "- С помощью функции map создать список list_2, содержащий квадраты каждого числа из списка list_1. \n",
    "- Используя функцию zip, получить список кортежей list_3 (число из list_1, квадрат этого числа из list_2).\n",
    "- Функция function(n) должна с помощью return возвратить сумму всех чисел в list_3. \n",
    "\n",
    "Для примера:\n",
    "\n",
    "| Тест                | Результат |\n",
    "|---------------------|-----------|\n",
    "| print(function(1000))  | 47333286        |\n",
    "| print(function(200)) | 380828       |"
   ]
  },
  {
   "cell_type": "code",
   "execution_count": null,
   "metadata": {
    "collapsed": true
   },
   "outputs": [],
   "source": [
    "def function(n):\n",
    "    # Создаем список всех чисел от 1 до n (включительно)\n",
    "    numbers = list(range(1, n + 1))\n",
    "    \n",
    "    # Используем filter для того, чтобы оставить только числа, которые делятся на 7\n",
    "    list_1 = list(filter(lambda x: x % 7 == 0, numbers))\n",
    "    \n",
    "    # Применяем map для возведения чисел из list_1 в квадрат\n",
    "    list_2 = list(map(lambda x: x ** 2, list_1))\n",
    "    \n",
    "    # Используем zip для создания списка кортежей, где каждый кортеж состоит из числа из list_1 и его квадрата из list_2\n",
    "    list_3 = list(zip(list_1, list_2))\n",
    "    \n",
    "    # Возвращаем сумму всех элементов в кортежах из list_3. Для каждого кортежа суммируются его элементы\n",
    "    return sum(sum(tup) for tup in list_3)\n"
   ]
  },
  {
   "cell_type": "code",
   "execution_count": 2,
   "metadata": {},
   "outputs": [
    {
     "name": "stdout",
     "output_type": "stream",
     "text": [
      "47333286\n"
     ]
    }
   ],
   "source": [
    "print(function(1000))"
   ]
  },
  {
   "cell_type": "code",
   "execution_count": 3,
   "metadata": {},
   "outputs": [
    {
     "name": "stdout",
     "output_type": "stream",
     "text": [
      "380828\n"
     ]
    }
   ],
   "source": [
    "print(function(200))"
   ]
  }
 ],
 "metadata": {
  "kernelspec": {
   "display_name": ".venv",
   "language": "python",
   "name": "python3"
  },
  "language_info": {
   "codemirror_mode": {
    "name": "ipython",
    "version": 3
   },
   "file_extension": ".py",
   "mimetype": "text/x-python",
   "name": "python",
   "nbconvert_exporter": "python",
   "pygments_lexer": "ipython3",
   "version": "3.12.4"
  }
 },
 "nbformat": 4,
 "nbformat_minor": 0
}
