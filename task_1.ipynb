{
 "cells": [
  {
   "cell_type": "markdown",
   "metadata": {
    "collapsed": false
   },
   "source": [
    "Вставьте в ответ код программы, в которой реализована функция my_list(n), на вход которой подается положительное целое число n. В этой функции:\n",
    "- Создается список, содержащий нечетные целые положительные числа, которые меньше n.\n",
    "- Удаляется из полученного списка все значения, которые делятся на 3 нацело.\n",
    "- Находится среднее арифметическое элементов списка, оно округляется до целого с помощью функции round().\n",
    "- Функция my_list(n) должна с помощью return возвращать округленную до целого сумму среднего арифметического, минимального и максимального значения в списке.\n",
    "\n",
    "Для примера:\n",
    "\n",
    "\n",
    "| Тест                | Результат |\n",
    "|---------------------|-----------|\n",
    "| print(my_list(11))  | 12        |\n",
    "| print(my_list(222)) | 333       |"
   ]
  },
  {
   "cell_type": "code",
   "execution_count": 1,
   "metadata": {
    "collapsed": true,
    "is_executing": true
   },
   "outputs": [],
   "source": [
    "def my_list(n):\n",
    "    # Создаем список нечетных чисел от 1 до n-1\n",
    "    odd_numbers = [i for i in range(1, n) if i % 2 != 0]\n",
    "\n",
    "    # Фильтруем список, убирая числа, которые делятся на 3\n",
    "    filtered_numbers = [i for i in odd_numbers if i % 3 != 0]\n",
    "\n",
    "    # Находим минимальное значение среди отфильтрованных чисел\n",
    "    min_value = min(filtered_numbers)\n",
    "\n",
    "    # Находим максимальное значение среди отфильтрованных чисел\n",
    "    max_value = max(filtered_numbers)\n",
    "\n",
    "    # Находим среднее значение отфильтрованных чисел, округляя его до целого\n",
    "    avg_value = round(sum(filtered_numbers) / len(filtered_numbers))\n",
    "\n",
    "    # Возвращаем сумму среднего, минимального и максимального значений\n",
    "    return round(avg_value + min_value + max_value)"
   ]
  },
  {
   "cell_type": "code",
   "execution_count": 2,
   "metadata": {
    "collapsed": false
   },
   "outputs": [
    {
     "name": "stdout",
     "output_type": "stream",
     "text": [
      "12\n"
     ]
    }
   ],
   "source": [
    "print(my_list(11))"
   ]
  },
  {
   "cell_type": "code",
   "execution_count": 3,
   "metadata": {
    "collapsed": false
   },
   "outputs": [
    {
     "name": "stdout",
     "output_type": "stream",
     "text": [
      "333\n"
     ]
    }
   ],
   "source": [
    "print(my_list(222))"
   ]
  }
 ],
 "metadata": {
  "kernelspec": {
   "display_name": ".venv",
   "language": "python",
   "name": "python3"
  },
  "language_info": {
   "codemirror_mode": {
    "name": "ipython",
    "version": 3
   },
   "file_extension": ".py",
   "mimetype": "text/x-python",
   "name": "python",
   "nbconvert_exporter": "python",
   "pygments_lexer": "ipython3",
   "version": "3.12.4"
  }
 },
 "nbformat": 4,
 "nbformat_minor": 0
}
