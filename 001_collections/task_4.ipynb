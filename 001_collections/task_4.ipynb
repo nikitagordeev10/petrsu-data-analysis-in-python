{
 "cells": [
  {
   "cell_type": "markdown",
   "metadata": {
    "collapsed": false
   },
   "source": [
    "Вставьте в ответ код программы с реализацией функции check_generator(),  в которой:\n",
    "\n",
    "- Написать однострочный генератор списков и с его помощью создать список mas_gen, который включает все целые четные неотрицательные числа, которые меньше 100000. После с помощью функции getsizeof() из модуля sys получить объём памяти который занимает mas_gen и сохранить его в переменную mem1.\n",
    "- Используя yield, написать генератор, реализующий аналогичную mas_gen последовательность чисел. Поочерёдно сгенерировать два элемента. С помощью функции getsizeof() получить объём памяти, который занимает второй сгенерированный элемент и сохранить его в переменную mem2.\n",
    "- Сравнить объем памяти, выделяемый под этот список и под генератор. Функция check_generator() должна с помощью return вывести разность mem1 и mem2. "
   ]
  },
  {
   "cell_type": "code",
   "execution_count": null,
   "metadata": {
    "collapsed": true
   },
   "outputs": [],
   "source": [
    "import sys\n",
    "\n",
    "def check_generator():\n",
    "    # Однострочный генератор списка для всех четных неотрицательных чисел меньше 100000\n",
    "    mas_gen = [i for i in range(100000) if i % 2 == 0]\n",
    "    \n",
    "    # Получаем объем памяти, занимаемый списком mas_gen\n",
    "    mem1 = sys.getsizeof(mas_gen)\n",
    "    \n",
    "    # Генератор на основе yield для аналогичной последовательности чисел\n",
    "    def even_generator():\n",
    "        # Генератор чисел, который поочередно генерирует четные числа от 0 до 99998\n",
    "        for i in range(100000):\n",
    "            if i % 2 == 0:\n",
    "                yield i\n",
    "    \n",
    "    # Создаем экземпляр генератора\n",
    "    gen = even_generator()\n",
    "\n",
    "    # Получаем первый элемент из генератора (генератор не хранит все элементы в памяти)\n",
    "    first_element = next(gen) \n",
    "    \n",
    "    # Получаем второй элемент из генератора\n",
    "    second_element = next(gen)  \n",
    "    \n",
    "    # Получаем размер памяти, занимаемый вторым элементом генератора\n",
    "    mem2 = sys.getsizeof(second_element)\n",
    "    \n",
    "    # Возвращаем разницу в объемах памяти между списком и вторым элементом генератора\n",
    "    return mem1 - mem2\n"
   ]
  }
 ],
 "metadata": {
  "kernelspec": {
   "display_name": ".venv",
   "language": "python",
   "name": "python3"
  },
  "language_info": {
   "codemirror_mode": {
    "name": "ipython",
    "version": 3
   },
   "file_extension": ".py",
   "mimetype": "text/x-python",
   "name": "python",
   "nbconvert_exporter": "python",
   "pygments_lexer": "ipython3",
   "version": "3.12.4"
  }
 },
 "nbformat": 4,
 "nbformat_minor": 0
}
