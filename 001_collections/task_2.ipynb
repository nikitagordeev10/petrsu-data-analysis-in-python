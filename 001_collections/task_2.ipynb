{
 "cells": [
  {
   "cell_type": "markdown",
   "metadata": {
    "collapsed": false
   },
   "source": [
    "Вставьте в ответ код программы, в которой реализована функция work(n), где n - положительное число, кратное 2. В этой функции последовательно:\n",
    "- Создайте два множества: set_1 = {2, 4, 6, …, n} (каждый следующий член последовательности на 2 больше) , set_2 = {5, 10, 15, …, 100} (каждый следующий член последовательности на 5 больше). \n",
    "- Найдите сумму sum_1 элементов объединения множеств set_1 и set_2, а также сумму sum_2 элементов пересечения множеств set_1 и set_2. \n",
    "- Функция work() должна с помощью return возвращать сумму sum_1 + sum_2.\n",
    "\n",
    "Для примера:\n",
    "\n",
    "\n",
    "| Тест                | Результат |\n",
    "|---------------------|-----------|\n",
    "| print(work(20))  | 1160        |\n",
    "| print(work(40)) | 1470       |"
   ]
  },
  {
   "cell_type": "code",
   "execution_count": 1,
   "metadata": {
    "collapsed": true
   },
   "outputs": [],
   "source": [
    "def work(n):\n",
    "    # Создаем множество четных чисел от 2 до n (включительно)\n",
    "    set_1 = {i for i in range(2, n + 1, 2)}\n",
    "    \n",
    "    # Создаем множество чисел, кратных 5, от 5 до 100 (включительно)\n",
    "    set_2 = {i for i in range(5, 101, 5)}  \n",
    "    \n",
    "    # Находим объединение двух множеств\n",
    "    union_set = set_1.union(set_2) \n",
    "    \n",
    "    # Находим пересечение двух множеств\n",
    "    intersection_set = set_1.intersection(set_2) \n",
    "    \n",
    "    # Суммируем все элементы объединенного множества\n",
    "    sum_1 = sum(union_set)                   \n",
    "    \n",
    "    # Суммируем все элементы пересеченного множества\n",
    "    sum_2 = sum(intersection_set)            \n",
    "    \n",
    "    # Возвращаем сумму элементов объединенного и пересеченного множеств\n",
    "    return sum_1 + sum_2\n"
   ]
  },
  {
   "cell_type": "code",
   "execution_count": 2,
   "metadata": {
    "collapsed": false
   },
   "outputs": [
    {
     "name": "stdout",
     "output_type": "stream",
     "text": [
      "1160\n"
     ]
    }
   ],
   "source": [
    "print(work(20))"
   ]
  },
  {
   "cell_type": "code",
   "execution_count": 3,
   "metadata": {
    "collapsed": false
   },
   "outputs": [
    {
     "name": "stdout",
     "output_type": "stream",
     "text": [
      "1470\n"
     ]
    }
   ],
   "source": [
    "print(work(40))"
   ]
  }
 ],
 "metadata": {
  "kernelspec": {
   "display_name": ".venv",
   "language": "python",
   "name": "python3"
  },
  "language_info": {
   "codemirror_mode": {
    "name": "ipython",
    "version": 3
   },
   "file_extension": ".py",
   "mimetype": "text/x-python",
   "name": "python",
   "nbconvert_exporter": "python",
   "pygments_lexer": "ipython3",
   "version": "3.12.4"
  }
 },
 "nbformat": 4,
 "nbformat_minor": 0
}
